{
 "cells": [
  {
   "cell_type": "markdown",
   "metadata": {},
   "source": [
    "### Heroes Of Pymoli Data Analysis\n",
    "* Of the 1163 active players, the vast majority are male (84%). There also exists, a smaller, but notable proportion of female players (14%).\n",
    "\n",
    "* Our peak age demographic falls between 20-24 (44.8%) with secondary groups falling between 15-19 (18.60%) and 25-29 (13.4%).\n",
    "\n",
    "* The age group of 35-39 spends more per item having the highest average purchase price of \\\\$3.6 dollars. \n",
    "\n",
    "* User Lisosia93 has highest total purchase \\\\$18.96 with purchase count of 5, and average total price of \\\\$3.79.\n",
    "\n",
    "* The most popular item is 'Final Critic', which has been purchsed the most (13 times), and also has the hightest total purchse value of \\\\$59.99 followed by item 'Oathbreaker, Last Hope of the Breaking Storm', purchased 12 times with second highest total purchase value of \\\\$50.76.\n",
    "\n"
   ]
  },
  {
   "cell_type": "markdown",
   "metadata": {},
   "source": [
    "### Note\n",
    "* Instructions have been included for each segment. You do not have to follow them exactly, but they are included to help you think through the steps."
   ]
  },
  {
   "cell_type": "code",
   "execution_count": 1,
   "metadata": {},
   "outputs": [
    {
     "data": {
      "text/html": [
       "<div>\n",
       "<style scoped>\n",
       "    .dataframe tbody tr th:only-of-type {\n",
       "        vertical-align: middle;\n",
       "    }\n",
       "\n",
       "    .dataframe tbody tr th {\n",
       "        vertical-align: top;\n",
       "    }\n",
       "\n",
       "    .dataframe thead th {\n",
       "        text-align: right;\n",
       "    }\n",
       "</style>\n",
       "<table border=\"1\" class=\"dataframe\">\n",
       "  <thead>\n",
       "    <tr style=\"text-align: right;\">\n",
       "      <th></th>\n",
       "      <th>Purchase ID</th>\n",
       "      <th>SN</th>\n",
       "      <th>Age</th>\n",
       "      <th>Gender</th>\n",
       "      <th>Item ID</th>\n",
       "      <th>Item Name</th>\n",
       "      <th>Price</th>\n",
       "    </tr>\n",
       "  </thead>\n",
       "  <tbody>\n",
       "    <tr>\n",
       "      <th>0</th>\n",
       "      <td>0</td>\n",
       "      <td>Lisim78</td>\n",
       "      <td>20</td>\n",
       "      <td>Male</td>\n",
       "      <td>108</td>\n",
       "      <td>Extraction, Quickblade Of Trembling Hands</td>\n",
       "      <td>3.53</td>\n",
       "    </tr>\n",
       "    <tr>\n",
       "      <th>1</th>\n",
       "      <td>1</td>\n",
       "      <td>Lisovynya38</td>\n",
       "      <td>40</td>\n",
       "      <td>Male</td>\n",
       "      <td>143</td>\n",
       "      <td>Frenzied Scimitar</td>\n",
       "      <td>1.56</td>\n",
       "    </tr>\n",
       "    <tr>\n",
       "      <th>2</th>\n",
       "      <td>2</td>\n",
       "      <td>Ithergue48</td>\n",
       "      <td>24</td>\n",
       "      <td>Male</td>\n",
       "      <td>92</td>\n",
       "      <td>Final Critic</td>\n",
       "      <td>4.88</td>\n",
       "    </tr>\n",
       "    <tr>\n",
       "      <th>3</th>\n",
       "      <td>3</td>\n",
       "      <td>Chamassasya86</td>\n",
       "      <td>24</td>\n",
       "      <td>Male</td>\n",
       "      <td>100</td>\n",
       "      <td>Blindscythe</td>\n",
       "      <td>3.27</td>\n",
       "    </tr>\n",
       "    <tr>\n",
       "      <th>4</th>\n",
       "      <td>4</td>\n",
       "      <td>Iskosia90</td>\n",
       "      <td>23</td>\n",
       "      <td>Male</td>\n",
       "      <td>131</td>\n",
       "      <td>Fury</td>\n",
       "      <td>1.44</td>\n",
       "    </tr>\n",
       "  </tbody>\n",
       "</table>\n",
       "</div>"
      ],
      "text/plain": [
       "   Purchase ID             SN  Age Gender  Item ID  \\\n",
       "0            0        Lisim78   20   Male      108   \n",
       "1            1    Lisovynya38   40   Male      143   \n",
       "2            2     Ithergue48   24   Male       92   \n",
       "3            3  Chamassasya86   24   Male      100   \n",
       "4            4      Iskosia90   23   Male      131   \n",
       "\n",
       "                                   Item Name  Price  \n",
       "0  Extraction, Quickblade Of Trembling Hands   3.53  \n",
       "1                          Frenzied Scimitar   1.56  \n",
       "2                               Final Critic   4.88  \n",
       "3                                Blindscythe   3.27  \n",
       "4                                       Fury   1.44  "
      ]
     },
     "execution_count": 1,
     "metadata": {},
     "output_type": "execute_result"
    }
   ],
   "source": [
    "# Dependencies and Setup\n",
    "import pandas as pd\n",
    "\n",
    "# File to Load (Remember to Change These)\n",
    "file_to_load = \"Resources/purchase_data.csv\"\n",
    "\n",
    "# Read Purchasing File and store into Pandas data frame\n",
    "purchase_data = pd.read_csv(file_to_load)\n",
    "purchase_data.head()\n"
   ]
  },
  {
   "cell_type": "markdown",
   "metadata": {},
   "source": [
    "## Player Count"
   ]
  },
  {
   "cell_type": "markdown",
   "metadata": {},
   "source": [
    "* Display the total number of players\n"
   ]
  },
  {
   "cell_type": "code",
   "execution_count": 2,
   "metadata": {},
   "outputs": [
    {
     "data": {
      "text/html": [
       "<div>\n",
       "<style scoped>\n",
       "    .dataframe tbody tr th:only-of-type {\n",
       "        vertical-align: middle;\n",
       "    }\n",
       "\n",
       "    .dataframe tbody tr th {\n",
       "        vertical-align: top;\n",
       "    }\n",
       "\n",
       "    .dataframe thead th {\n",
       "        text-align: right;\n",
       "    }\n",
       "</style>\n",
       "<table border=\"1\" class=\"dataframe\">\n",
       "  <thead>\n",
       "    <tr style=\"text-align: right;\">\n",
       "      <th></th>\n",
       "      <th>Total Number</th>\n",
       "    </tr>\n",
       "  </thead>\n",
       "  <tbody>\n",
       "    <tr>\n",
       "      <th>0</th>\n",
       "      <td>576</td>\n",
       "    </tr>\n",
       "  </tbody>\n",
       "</table>\n",
       "</div>"
      ],
      "text/plain": [
       "   Total Number\n",
       "0           576"
      ]
     },
     "execution_count": 2,
     "metadata": {},
     "output_type": "execute_result"
    }
   ],
   "source": [
    "# total number of players\n",
    "\n",
    "column_name = ['Total Player']\n",
    "total_players = (purchase_data['SN']).nunique()\n",
    "total_players_df = pd.DataFrame({\"Total Number\" : [total_players]})\n",
    "total_players_df\n"
   ]
  },
  {
   "cell_type": "markdown",
   "metadata": {},
   "source": [
    "## Purchasing Analysis (Total)"
   ]
  },
  {
   "cell_type": "markdown",
   "metadata": {},
   "source": [
    "* Run basic calculations to obtain number of unique items, average price, etc.\n",
    "\n",
    "\n",
    "* Create a summary data frame to hold the results\n",
    "\n",
    "\n",
    "* Optional: give the displayed data cleaner formatting\n",
    "\n",
    "\n",
    "* Display the summary data frame\n"
   ]
  },
  {
   "cell_type": "code",
   "execution_count": 3,
   "metadata": {
    "scrolled": false
   },
   "outputs": [
    {
     "data": {
      "text/html": [
       "<div>\n",
       "<style scoped>\n",
       "    .dataframe tbody tr th:only-of-type {\n",
       "        vertical-align: middle;\n",
       "    }\n",
       "\n",
       "    .dataframe tbody tr th {\n",
       "        vertical-align: top;\n",
       "    }\n",
       "\n",
       "    .dataframe thead th {\n",
       "        text-align: right;\n",
       "    }\n",
       "</style>\n",
       "<table border=\"1\" class=\"dataframe\">\n",
       "  <thead>\n",
       "    <tr style=\"text-align: right;\">\n",
       "      <th></th>\n",
       "      <th>Number of Unique Items</th>\n",
       "      <th>Average Price</th>\n",
       "      <th>Number of Purchases</th>\n",
       "      <th>Total Revenue</th>\n",
       "    </tr>\n",
       "  </thead>\n",
       "  <tbody>\n",
       "    <tr>\n",
       "      <th>0</th>\n",
       "      <td>179</td>\n",
       "      <td>$3.05</td>\n",
       "      <td>780</td>\n",
       "      <td>$2379.77</td>\n",
       "    </tr>\n",
       "  </tbody>\n",
       "</table>\n",
       "</div>"
      ],
      "text/plain": [
       "   Number of Unique Items Average Price  Number of Purchases Total Revenue\n",
       "0                     179         $3.05                  780      $2379.77"
      ]
     },
     "execution_count": 3,
     "metadata": {},
     "output_type": "execute_result"
    }
   ],
   "source": [
    "# Number of Unique Items\n",
    "unique_items_df = (purchase_data['Item ID']).nunique()\n",
    "Average_price_df = (purchase_data['Price']).mean()\n",
    "total_purchase_df = (purchase_data['Purchase ID']).nunique()\n",
    "total_revenue_df = (purchase_data['Price']).sum()\n",
    "column_name = ['Number of Unique Items', 'Average Price', 'Number of Purchases', 'Total Revenue']\n",
    "\n",
    "#creating and displaying summary Dataframe that holds the values and data cleaner formating\n",
    "summary_df = pd.DataFrame({\"Number of Unique Items\" : [unique_items_df] ,\n",
    "                            \"Average Price\" : '${:.2f}'.format(Average_price_df),\n",
    "                            \"Number of Purchases\" : [total_purchase_df],\n",
    "                            \"Total Revenue\" : '${:.2f}'.format(total_revenue_df)\n",
    "                          })\n"
   ]
  },
  {
   "cell_type": "markdown",
   "metadata": {},
   "source": [
    "## Gender Demographics"
   ]
  },
  {
   "cell_type": "markdown",
   "metadata": {},
   "source": [
    "* Percentage and Count of Male Players\n",
    "\n",
    "\n",
    "* Percentage and Count of Female Players\n",
    "\n",
    "\n",
    "* Percentage and Count of Other / Non-Disclosed\n",
    "\n",
    "\n"
   ]
  },
  {
   "cell_type": "code",
   "execution_count": 4,
   "metadata": {},
   "outputs": [
    {
     "data": {
      "text/html": [
       "<div>\n",
       "<style scoped>\n",
       "    .dataframe tbody tr th:only-of-type {\n",
       "        vertical-align: middle;\n",
       "    }\n",
       "\n",
       "    .dataframe tbody tr th {\n",
       "        vertical-align: top;\n",
       "    }\n",
       "\n",
       "    .dataframe thead th {\n",
       "        text-align: right;\n",
       "    }\n",
       "</style>\n",
       "<table border=\"1\" class=\"dataframe\">\n",
       "  <thead>\n",
       "    <tr style=\"text-align: right;\">\n",
       "      <th></th>\n",
       "      <th>Total Count</th>\n",
       "      <th>Percentage of Players</th>\n",
       "    </tr>\n",
       "    <tr>\n",
       "      <th>Gender</th>\n",
       "      <th></th>\n",
       "      <th></th>\n",
       "    </tr>\n",
       "  </thead>\n",
       "  <tbody>\n",
       "    <tr>\n",
       "      <th>Female</th>\n",
       "      <td>81</td>\n",
       "      <td>14.06%</td>\n",
       "    </tr>\n",
       "    <tr>\n",
       "      <th>Male</th>\n",
       "      <td>484</td>\n",
       "      <td>84.03%</td>\n",
       "    </tr>\n",
       "    <tr>\n",
       "      <th>Other / Non-Disclosed</th>\n",
       "      <td>11</td>\n",
       "      <td>1.91%</td>\n",
       "    </tr>\n",
       "  </tbody>\n",
       "</table>\n",
       "</div>"
      ],
      "text/plain": [
       "                       Total Count Percentage of Players\n",
       "Gender                                                  \n",
       "Female                          81                14.06%\n",
       "Male                           484                84.03%\n",
       "Other / Non-Disclosed           11                 1.91%"
      ]
     },
     "execution_count": 4,
     "metadata": {},
     "output_type": "execute_result"
    }
   ],
   "source": [
    "#groupby gender\n",
    "groupby_gender=purchase_data.groupby(['Gender'])\n",
    "\n",
    "#counting total number of gender\n",
    "gender_count =groupby_gender['SN'].nunique()\n",
    "Total_gender_count = gender_count.sum()\n",
    "\n",
    "#count and percent of male\n",
    "male_count_df = gender_count['Male']\n",
    "male_percent_df = (male_count_df/Total_gender_count) * 100\n",
    "\n",
    "#count and percent of female\n",
    "female_count_df = gender_count['Female']\n",
    "female_percent_df = (female_count_df/Total_gender_count) * 100\n",
    "\n",
    "#count and percent of #count and percent of female\n",
    "other_count_df = gender_count['Other / Non-Disclosed']\n",
    "other_percent_df = (other_count_df/Total_gender_count) * 100\n",
    "\n",
    "#creating summary dataframe to store values and used data cleaner formatting\n",
    "summary_gender_df =pd.DataFrame(gender_count)\n",
    "summary_gender_df['Percentage']= ['{:.2f}%'.format(female_percent_df), '{:.2f}%'.format(male_percent_df), '{:.2f}%'.format(other_percent_df)]\n",
    "summary_gender_df.columns= ['Total Count' , 'Percentage of Players']\n",
    "\n"
   ]
  },
  {
   "cell_type": "markdown",
   "metadata": {},
   "source": [
    "\n",
    "## Purchasing Analysis (Gender)"
   ]
  },
  {
   "cell_type": "markdown",
   "metadata": {},
   "source": [
    "* Run basic calculations to obtain purchase count, avg. purchase price, avg. purchase total per person etc. by gender\n",
    "\n",
    "\n",
    "\n",
    "\n",
    "* Create a summary data frame to hold the results\n",
    "\n",
    "\n",
    "* Optional: give the displayed data cleaner formatting\n",
    "\n",
    "\n",
    "* Display the summary data frame"
   ]
  },
  {
   "cell_type": "code",
   "execution_count": 5,
   "metadata": {},
   "outputs": [
    {
     "data": {
      "text/html": [
       "<style  type=\"text/css\" >\n",
       "</style><table id=\"T_15d5bc40_7a7c_11ea_a37d_9cb6d099d10e\" ><thead>    <tr>        <th class=\"blank level0\" ></th>        <th class=\"col_heading level0 col0\" >Purchase Count</th>        <th class=\"col_heading level0 col1\" >Average Purchase Price</th>        <th class=\"col_heading level0 col2\" >Total Purchase Value</th>        <th class=\"col_heading level0 col3\" >Avg Total Purchase per Person</th>    </tr>    <tr>        <th class=\"index_name level0\" >Gender</th>        <th class=\"blank\" ></th>        <th class=\"blank\" ></th>        <th class=\"blank\" ></th>        <th class=\"blank\" ></th>    </tr></thead><tbody>\n",
       "                <tr>\n",
       "                        <th id=\"T_15d5bc40_7a7c_11ea_a37d_9cb6d099d10elevel0_row0\" class=\"row_heading level0 row0\" >Female</th>\n",
       "                        <td id=\"T_15d5bc40_7a7c_11ea_a37d_9cb6d099d10erow0_col0\" class=\"data row0 col0\" >113</td>\n",
       "                        <td id=\"T_15d5bc40_7a7c_11ea_a37d_9cb6d099d10erow0_col1\" class=\"data row0 col1\" >$3.20</td>\n",
       "                        <td id=\"T_15d5bc40_7a7c_11ea_a37d_9cb6d099d10erow0_col2\" class=\"data row0 col2\" >$361.94</td>\n",
       "                        <td id=\"T_15d5bc40_7a7c_11ea_a37d_9cb6d099d10erow0_col3\" class=\"data row0 col3\" >$4.47</td>\n",
       "            </tr>\n",
       "            <tr>\n",
       "                        <th id=\"T_15d5bc40_7a7c_11ea_a37d_9cb6d099d10elevel0_row1\" class=\"row_heading level0 row1\" >Male</th>\n",
       "                        <td id=\"T_15d5bc40_7a7c_11ea_a37d_9cb6d099d10erow1_col0\" class=\"data row1 col0\" >652</td>\n",
       "                        <td id=\"T_15d5bc40_7a7c_11ea_a37d_9cb6d099d10erow1_col1\" class=\"data row1 col1\" >$3.02</td>\n",
       "                        <td id=\"T_15d5bc40_7a7c_11ea_a37d_9cb6d099d10erow1_col2\" class=\"data row1 col2\" >$1,967.64</td>\n",
       "                        <td id=\"T_15d5bc40_7a7c_11ea_a37d_9cb6d099d10erow1_col3\" class=\"data row1 col3\" >$4.07</td>\n",
       "            </tr>\n",
       "            <tr>\n",
       "                        <th id=\"T_15d5bc40_7a7c_11ea_a37d_9cb6d099d10elevel0_row2\" class=\"row_heading level0 row2\" >Other / Non-Disclosed</th>\n",
       "                        <td id=\"T_15d5bc40_7a7c_11ea_a37d_9cb6d099d10erow2_col0\" class=\"data row2 col0\" >15</td>\n",
       "                        <td id=\"T_15d5bc40_7a7c_11ea_a37d_9cb6d099d10erow2_col1\" class=\"data row2 col1\" >$3.35</td>\n",
       "                        <td id=\"T_15d5bc40_7a7c_11ea_a37d_9cb6d099d10erow2_col2\" class=\"data row2 col2\" >$50.19</td>\n",
       "                        <td id=\"T_15d5bc40_7a7c_11ea_a37d_9cb6d099d10erow2_col3\" class=\"data row2 col3\" >$4.56</td>\n",
       "            </tr>\n",
       "    </tbody></table>"
      ],
      "text/plain": [
       "<pandas.io.formats.style.Styler at 0x1f462004988>"
      ]
     },
     "execution_count": 5,
     "metadata": {},
     "output_type": "execute_result"
    }
   ],
   "source": [
    "#average purchase price by gender\n",
    "average_purchase = groupby_gender['Price'].mean()\n",
    "#average_purchase= '{:.2f}%'.format(average_purchase)\n",
    "\n",
    "#purchase count by gender\n",
    "purchase_count = groupby_gender['Purchase ID'].count()\n",
    "\n",
    "#average purchase total per person by gender\n",
    "total_purchase = groupby_gender['Price'].sum()\n",
    "avg_total_purchase = (total_purchase/gender_count)\n",
    "\n",
    "\n",
    "#summary dataframe to hold the results\n",
    "summary_average_df = pd.DataFrame({\"Purchase Count\" : purchase_count,\n",
    "                                    \"Average Purchase Price\" :average_purchase,\n",
    "                                     \"Total Purchase Value\" : total_purchase,\n",
    "                                      \"Avg Total Purchase per Person\" : avg_total_purchase\n",
    "                                  })\n",
    "\n",
    "#used data cleaner formatting in summary dataframe\n",
    "summary_average_df.style.format({\"Average Purchase Price\": \"${:0,.2f}\",\n",
    "                                \"Total Purchase Value\": \"${:0,.2f}\",\n",
    "                                \"Avg Total Purchase per Person\": \"${:0,.2f}\"})\n"
   ]
  },
  {
   "cell_type": "markdown",
   "metadata": {},
   "source": [
    "## Age Demographics"
   ]
  },
  {
   "cell_type": "markdown",
   "metadata": {},
   "source": [
    "* Establish bins for ages\n",
    "\n",
    "\n",
    "* Categorize the existing players using the age bins. Hint: use pd.cut()\n",
    "\n",
    "\n",
    "* Calculate the numbers and percentages by age group\n",
    "\n",
    "\n",
    "* Create a summary data frame to hold the results\n",
    "\n",
    "\n",
    "* Optional: round the percentage column to two decimal points\n",
    "\n",
    "\n",
    "* Display Age Demographics Table\n"
   ]
  },
  {
   "cell_type": "code",
   "execution_count": 6,
   "metadata": {},
   "outputs": [
    {
     "data": {
      "text/html": [
       "<style  type=\"text/css\" >\n",
       "</style><table id=\"T_15dad8d4_7a7c_11ea_a53e_9cb6d099d10e\" ><thead>    <tr>        <th class=\"blank level0\" ></th>        <th class=\"col_heading level0 col0\" >Total Count</th>        <th class=\"col_heading level0 col1\" >Percentage of Players</th>    </tr>    <tr>        <th class=\"index_name level0\" >New Age</th>        <th class=\"blank\" ></th>        <th class=\"blank\" ></th>    </tr></thead><tbody>\n",
       "                <tr>\n",
       "                        <th id=\"T_15dad8d4_7a7c_11ea_a53e_9cb6d099d10elevel0_row0\" class=\"row_heading level0 row0\" ><10</th>\n",
       "                        <td id=\"T_15dad8d4_7a7c_11ea_a53e_9cb6d099d10erow0_col0\" class=\"data row0 col0\" >17</td>\n",
       "                        <td id=\"T_15dad8d4_7a7c_11ea_a53e_9cb6d099d10erow0_col1\" class=\"data row0 col1\" >2.95%</td>\n",
       "            </tr>\n",
       "            <tr>\n",
       "                        <th id=\"T_15dad8d4_7a7c_11ea_a53e_9cb6d099d10elevel0_row1\" class=\"row_heading level0 row1\" >10-14</th>\n",
       "                        <td id=\"T_15dad8d4_7a7c_11ea_a53e_9cb6d099d10erow1_col0\" class=\"data row1 col0\" >22</td>\n",
       "                        <td id=\"T_15dad8d4_7a7c_11ea_a53e_9cb6d099d10erow1_col1\" class=\"data row1 col1\" >3.82%</td>\n",
       "            </tr>\n",
       "            <tr>\n",
       "                        <th id=\"T_15dad8d4_7a7c_11ea_a53e_9cb6d099d10elevel0_row2\" class=\"row_heading level0 row2\" >15-19</th>\n",
       "                        <td id=\"T_15dad8d4_7a7c_11ea_a53e_9cb6d099d10erow2_col0\" class=\"data row2 col0\" >176</td>\n",
       "                        <td id=\"T_15dad8d4_7a7c_11ea_a53e_9cb6d099d10erow2_col1\" class=\"data row2 col1\" >30.56%</td>\n",
       "            </tr>\n",
       "            <tr>\n",
       "                        <th id=\"T_15dad8d4_7a7c_11ea_a53e_9cb6d099d10elevel0_row3\" class=\"row_heading level0 row3\" >20-24</th>\n",
       "                        <td id=\"T_15dad8d4_7a7c_11ea_a53e_9cb6d099d10erow3_col0\" class=\"data row3 col0\" >189</td>\n",
       "                        <td id=\"T_15dad8d4_7a7c_11ea_a53e_9cb6d099d10erow3_col1\" class=\"data row3 col1\" >32.81%</td>\n",
       "            </tr>\n",
       "            <tr>\n",
       "                        <th id=\"T_15dad8d4_7a7c_11ea_a53e_9cb6d099d10elevel0_row4\" class=\"row_heading level0 row4\" >25-29</th>\n",
       "                        <td id=\"T_15dad8d4_7a7c_11ea_a53e_9cb6d099d10erow4_col0\" class=\"data row4 col0\" >77</td>\n",
       "                        <td id=\"T_15dad8d4_7a7c_11ea_a53e_9cb6d099d10erow4_col1\" class=\"data row4 col1\" >13.37%</td>\n",
       "            </tr>\n",
       "            <tr>\n",
       "                        <th id=\"T_15dad8d4_7a7c_11ea_a53e_9cb6d099d10elevel0_row5\" class=\"row_heading level0 row5\" >30-34</th>\n",
       "                        <td id=\"T_15dad8d4_7a7c_11ea_a53e_9cb6d099d10erow5_col0\" class=\"data row5 col0\" >52</td>\n",
       "                        <td id=\"T_15dad8d4_7a7c_11ea_a53e_9cb6d099d10erow5_col1\" class=\"data row5 col1\" >9.03%</td>\n",
       "            </tr>\n",
       "            <tr>\n",
       "                        <th id=\"T_15dad8d4_7a7c_11ea_a53e_9cb6d099d10elevel0_row6\" class=\"row_heading level0 row6\" >35-39</th>\n",
       "                        <td id=\"T_15dad8d4_7a7c_11ea_a53e_9cb6d099d10erow6_col0\" class=\"data row6 col0\" >31</td>\n",
       "                        <td id=\"T_15dad8d4_7a7c_11ea_a53e_9cb6d099d10erow6_col1\" class=\"data row6 col1\" >5.38%</td>\n",
       "            </tr>\n",
       "            <tr>\n",
       "                        <th id=\"T_15dad8d4_7a7c_11ea_a53e_9cb6d099d10elevel0_row7\" class=\"row_heading level0 row7\" >40+</th>\n",
       "                        <td id=\"T_15dad8d4_7a7c_11ea_a53e_9cb6d099d10erow7_col0\" class=\"data row7 col0\" >12</td>\n",
       "                        <td id=\"T_15dad8d4_7a7c_11ea_a53e_9cb6d099d10erow7_col1\" class=\"data row7 col1\" >2.08%</td>\n",
       "            </tr>\n",
       "    </tbody></table>"
      ],
      "text/plain": [
       "<pandas.io.formats.style.Styler at 0x1f462e1e1c8>"
      ]
     },
     "execution_count": 6,
     "metadata": {},
     "output_type": "execute_result"
    }
   ],
   "source": [
    "#copying original value \n",
    "bin_df = purchase_data.copy()\n",
    "\n",
    "#creating bin for ages\n",
    "bins = [0, 9, 14, 20, 24, 29, 34, 39, 99999]\n",
    "\n",
    "#creating group names\n",
    "group_name = [\"<10\", \"10-14\", \"15-19\", \"20-24\", \"25-29\", \"30-34\", \"35-39\", \"40+\"]\n",
    "bin_df[\"New Age\"] = pd.cut(bin_df[\"Age\"], bins, labels=group_name)\n",
    "\n",
    "#calculating number and percentage by age group\n",
    "group_age = bin_df.groupby(\"New Age\")\n",
    "total_count_age = group_age[\"SN\"].nunique()\n",
    "percentage_age = (total_count_age/total_players) * 100\n",
    "\n",
    "#displaying age demographic in table\n",
    "age_demographics = pd.DataFrame({\"Total Count\": total_count_age, \"Percentage of Players\": percentage_age})\n",
    "\n",
    "#rounding  the percentage column to two decimal points and used data cleaner formatting\n",
    "age_demographics.style.format({\"Percentage of Players\" : \"{:0,.2f}%\"})\n"
   ]
  },
  {
   "cell_type": "markdown",
   "metadata": {},
   "source": [
    "## Purchasing Analysis (Age)"
   ]
  },
  {
   "cell_type": "markdown",
   "metadata": {},
   "source": [
    "* Bin the purchase_data data frame by age\n",
    "\n",
    "\n",
    "* Run basic calculations to obtain purchase count, avg. purchase price, avg. purchase total per person etc. in the table below\n",
    "\n",
    "\n",
    "* Create a summary data frame to hold the results\n",
    "\n",
    "\n",
    "* Optional: give the displayed data cleaner formatting\n",
    "\n",
    "\n",
    "* Display the summary data frame"
   ]
  },
  {
   "cell_type": "code",
   "execution_count": 7,
   "metadata": {},
   "outputs": [
    {
     "data": {
      "text/html": [
       "<style  type=\"text/css\" >\n",
       "</style><table id=\"T_15df4dca_7a7c_11ea_90bc_9cb6d099d10e\" ><thead>    <tr>        <th class=\"blank level0\" ></th>        <th class=\"col_heading level0 col0\" >Purchase Count</th>        <th class=\"col_heading level0 col1\" >Average Purchase Price</th>        <th class=\"col_heading level0 col2\" >Total Purchase Value</th>        <th class=\"col_heading level0 col3\" >Avg Total Purchase per Person</th>    </tr>    <tr>        <th class=\"index_name level0\" >New Age</th>        <th class=\"blank\" ></th>        <th class=\"blank\" ></th>        <th class=\"blank\" ></th>        <th class=\"blank\" ></th>    </tr></thead><tbody>\n",
       "                <tr>\n",
       "                        <th id=\"T_15df4dca_7a7c_11ea_90bc_9cb6d099d10elevel0_row0\" class=\"row_heading level0 row0\" ><10</th>\n",
       "                        <td id=\"T_15df4dca_7a7c_11ea_90bc_9cb6d099d10erow0_col0\" class=\"data row0 col0\" >23</td>\n",
       "                        <td id=\"T_15df4dca_7a7c_11ea_90bc_9cb6d099d10erow0_col1\" class=\"data row0 col1\" >$3.35</td>\n",
       "                        <td id=\"T_15df4dca_7a7c_11ea_90bc_9cb6d099d10erow0_col2\" class=\"data row0 col2\" >$77.13</td>\n",
       "                        <td id=\"T_15df4dca_7a7c_11ea_90bc_9cb6d099d10erow0_col3\" class=\"data row0 col3\" >$4.54</td>\n",
       "            </tr>\n",
       "            <tr>\n",
       "                        <th id=\"T_15df4dca_7a7c_11ea_90bc_9cb6d099d10elevel0_row1\" class=\"row_heading level0 row1\" >10-14</th>\n",
       "                        <td id=\"T_15df4dca_7a7c_11ea_90bc_9cb6d099d10erow1_col0\" class=\"data row1 col0\" >28</td>\n",
       "                        <td id=\"T_15df4dca_7a7c_11ea_90bc_9cb6d099d10erow1_col1\" class=\"data row1 col1\" >$2.96</td>\n",
       "                        <td id=\"T_15df4dca_7a7c_11ea_90bc_9cb6d099d10erow1_col2\" class=\"data row1 col2\" >$82.78</td>\n",
       "                        <td id=\"T_15df4dca_7a7c_11ea_90bc_9cb6d099d10erow1_col3\" class=\"data row1 col3\" >$3.76</td>\n",
       "            </tr>\n",
       "            <tr>\n",
       "                        <th id=\"T_15df4dca_7a7c_11ea_90bc_9cb6d099d10elevel0_row2\" class=\"row_heading level0 row2\" >15-19</th>\n",
       "                        <td id=\"T_15df4dca_7a7c_11ea_90bc_9cb6d099d10erow2_col0\" class=\"data row2 col0\" >235</td>\n",
       "                        <td id=\"T_15df4dca_7a7c_11ea_90bc_9cb6d099d10erow2_col1\" class=\"data row2 col1\" >$3.09</td>\n",
       "                        <td id=\"T_15df4dca_7a7c_11ea_90bc_9cb6d099d10erow2_col2\" class=\"data row2 col2\" >$727.21</td>\n",
       "                        <td id=\"T_15df4dca_7a7c_11ea_90bc_9cb6d099d10erow2_col3\" class=\"data row2 col3\" >$4.13</td>\n",
       "            </tr>\n",
       "            <tr>\n",
       "                        <th id=\"T_15df4dca_7a7c_11ea_90bc_9cb6d099d10elevel0_row3\" class=\"row_heading level0 row3\" >20-24</th>\n",
       "                        <td id=\"T_15df4dca_7a7c_11ea_90bc_9cb6d099d10erow3_col0\" class=\"data row3 col0\" >266</td>\n",
       "                        <td id=\"T_15df4dca_7a7c_11ea_90bc_9cb6d099d10erow3_col1\" class=\"data row3 col1\" >$3.01</td>\n",
       "                        <td id=\"T_15df4dca_7a7c_11ea_90bc_9cb6d099d10erow3_col2\" class=\"data row3 col2\" >$799.74</td>\n",
       "                        <td id=\"T_15df4dca_7a7c_11ea_90bc_9cb6d099d10erow3_col3\" class=\"data row3 col3\" >$4.23</td>\n",
       "            </tr>\n",
       "            <tr>\n",
       "                        <th id=\"T_15df4dca_7a7c_11ea_90bc_9cb6d099d10elevel0_row4\" class=\"row_heading level0 row4\" >25-29</th>\n",
       "                        <td id=\"T_15df4dca_7a7c_11ea_90bc_9cb6d099d10erow4_col0\" class=\"data row4 col0\" >101</td>\n",
       "                        <td id=\"T_15df4dca_7a7c_11ea_90bc_9cb6d099d10erow4_col1\" class=\"data row4 col1\" >$2.90</td>\n",
       "                        <td id=\"T_15df4dca_7a7c_11ea_90bc_9cb6d099d10erow4_col2\" class=\"data row4 col2\" >$293.00</td>\n",
       "                        <td id=\"T_15df4dca_7a7c_11ea_90bc_9cb6d099d10erow4_col3\" class=\"data row4 col3\" >$3.81</td>\n",
       "            </tr>\n",
       "            <tr>\n",
       "                        <th id=\"T_15df4dca_7a7c_11ea_90bc_9cb6d099d10elevel0_row5\" class=\"row_heading level0 row5\" >30-34</th>\n",
       "                        <td id=\"T_15df4dca_7a7c_11ea_90bc_9cb6d099d10erow5_col0\" class=\"data row5 col0\" >73</td>\n",
       "                        <td id=\"T_15df4dca_7a7c_11ea_90bc_9cb6d099d10erow5_col1\" class=\"data row5 col1\" >$2.93</td>\n",
       "                        <td id=\"T_15df4dca_7a7c_11ea_90bc_9cb6d099d10erow5_col2\" class=\"data row5 col2\" >$214.00</td>\n",
       "                        <td id=\"T_15df4dca_7a7c_11ea_90bc_9cb6d099d10erow5_col3\" class=\"data row5 col3\" >$4.12</td>\n",
       "            </tr>\n",
       "            <tr>\n",
       "                        <th id=\"T_15df4dca_7a7c_11ea_90bc_9cb6d099d10elevel0_row6\" class=\"row_heading level0 row6\" >35-39</th>\n",
       "                        <td id=\"T_15df4dca_7a7c_11ea_90bc_9cb6d099d10erow6_col0\" class=\"data row6 col0\" >41</td>\n",
       "                        <td id=\"T_15df4dca_7a7c_11ea_90bc_9cb6d099d10erow6_col1\" class=\"data row6 col1\" >$3.60</td>\n",
       "                        <td id=\"T_15df4dca_7a7c_11ea_90bc_9cb6d099d10erow6_col2\" class=\"data row6 col2\" >$147.67</td>\n",
       "                        <td id=\"T_15df4dca_7a7c_11ea_90bc_9cb6d099d10erow6_col3\" class=\"data row6 col3\" >$4.76</td>\n",
       "            </tr>\n",
       "            <tr>\n",
       "                        <th id=\"T_15df4dca_7a7c_11ea_90bc_9cb6d099d10elevel0_row7\" class=\"row_heading level0 row7\" >40+</th>\n",
       "                        <td id=\"T_15df4dca_7a7c_11ea_90bc_9cb6d099d10erow7_col0\" class=\"data row7 col0\" >13</td>\n",
       "                        <td id=\"T_15df4dca_7a7c_11ea_90bc_9cb6d099d10erow7_col1\" class=\"data row7 col1\" >$2.94</td>\n",
       "                        <td id=\"T_15df4dca_7a7c_11ea_90bc_9cb6d099d10erow7_col2\" class=\"data row7 col2\" >$38.24</td>\n",
       "                        <td id=\"T_15df4dca_7a7c_11ea_90bc_9cb6d099d10erow7_col3\" class=\"data row7 col3\" >$3.19</td>\n",
       "            </tr>\n",
       "    </tbody></table>"
      ],
      "text/plain": [
       "<pandas.io.formats.style.Styler at 0x1f462e33e08>"
      ]
     },
     "execution_count": 7,
     "metadata": {},
     "output_type": "execute_result"
    }
   ],
   "source": [
    "#purchase count by of bin data frame by age\n",
    "purchase_count_bin = group_age['Age'].count()\n",
    "#average purchase by of bin data frame by age\n",
    "average_purchase_bin = group_age['Price'].mean()\n",
    "#total purchase by of bin data frame by age\n",
    "total_purchase_bin = group_age['Price'].sum()\n",
    "avg_total_purchase_bin = (total_purchase_bin/total_count_age)\n",
    "\n",
    "\n",
    "\n",
    "#summary dataframe to hold the results\n",
    "summary_age_df = pd.DataFrame({\"Purchase Count\" : purchase_count_bin,\n",
    "                                    \"Average Purchase Price\" : average_purchase_bin,\n",
    "                                     \"Total Purchase Value\" : total_purchase_bin,\n",
    "                                      \"Avg Total Purchase per Person\" : avg_total_purchase_bin\n",
    "                                  })\n",
    "\n",
    "#used data cleaner formatting in summary dataframe\n",
    "summary_age_df.style.format({\"Average Purchase Price\" : \"${:0,.2f}\",\n",
    "                                \"Total Purchase Value\" : \"${:0,.2f}\",\n",
    "                                \"Avg Total Purchase per Person\" : \"${:0,.2f}\"\n",
    "                               \n",
    "    \n",
    "                                })"
   ]
  },
  {
   "cell_type": "markdown",
   "metadata": {},
   "source": [
    "## Top Spenders"
   ]
  },
  {
   "cell_type": "markdown",
   "metadata": {},
   "source": [
    "* Run basic calculations to obtain the results in the table below\n",
    "\n",
    "\n",
    "* Create a summary data frame to hold the results\n",
    "\n",
    "\n",
    "* Sort the total purchase value column in descending order\n",
    "\n",
    "\n",
    "* Optional: give the displayed data cleaner formatting\n",
    "\n",
    "\n",
    "* Display a preview of the summary data frame\n",
    "\n"
   ]
  },
  {
   "cell_type": "code",
   "execution_count": 8,
   "metadata": {},
   "outputs": [
    {
     "data": {
      "text/html": [
       "<style  type=\"text/css\" >\n",
       "</style><table id=\"T_15e4f8a8_7a7c_11ea_85ed_9cb6d099d10e\" ><thead>    <tr>        <th class=\"blank level0\" ></th>        <th class=\"col_heading level0 col0\" >Purchase Count</th>        <th class=\"col_heading level0 col1\" >Average Purchase Price</th>        <th class=\"col_heading level0 col2\" >Total Purchase Value</th>    </tr>    <tr>        <th class=\"index_name level0\" >SN</th>        <th class=\"blank\" ></th>        <th class=\"blank\" ></th>        <th class=\"blank\" ></th>    </tr></thead><tbody>\n",
       "                <tr>\n",
       "                        <th id=\"T_15e4f8a8_7a7c_11ea_85ed_9cb6d099d10elevel0_row0\" class=\"row_heading level0 row0\" >Lisosia93</th>\n",
       "                        <td id=\"T_15e4f8a8_7a7c_11ea_85ed_9cb6d099d10erow0_col0\" class=\"data row0 col0\" >5</td>\n",
       "                        <td id=\"T_15e4f8a8_7a7c_11ea_85ed_9cb6d099d10erow0_col1\" class=\"data row0 col1\" >$3.79</td>\n",
       "                        <td id=\"T_15e4f8a8_7a7c_11ea_85ed_9cb6d099d10erow0_col2\" class=\"data row0 col2\" >$18.96</td>\n",
       "            </tr>\n",
       "            <tr>\n",
       "                        <th id=\"T_15e4f8a8_7a7c_11ea_85ed_9cb6d099d10elevel0_row1\" class=\"row_heading level0 row1\" >Idastidru52</th>\n",
       "                        <td id=\"T_15e4f8a8_7a7c_11ea_85ed_9cb6d099d10erow1_col0\" class=\"data row1 col0\" >4</td>\n",
       "                        <td id=\"T_15e4f8a8_7a7c_11ea_85ed_9cb6d099d10erow1_col1\" class=\"data row1 col1\" >$3.86</td>\n",
       "                        <td id=\"T_15e4f8a8_7a7c_11ea_85ed_9cb6d099d10erow1_col2\" class=\"data row1 col2\" >$15.45</td>\n",
       "            </tr>\n",
       "            <tr>\n",
       "                        <th id=\"T_15e4f8a8_7a7c_11ea_85ed_9cb6d099d10elevel0_row2\" class=\"row_heading level0 row2\" >Chamjask73</th>\n",
       "                        <td id=\"T_15e4f8a8_7a7c_11ea_85ed_9cb6d099d10erow2_col0\" class=\"data row2 col0\" >3</td>\n",
       "                        <td id=\"T_15e4f8a8_7a7c_11ea_85ed_9cb6d099d10erow2_col1\" class=\"data row2 col1\" >$4.61</td>\n",
       "                        <td id=\"T_15e4f8a8_7a7c_11ea_85ed_9cb6d099d10erow2_col2\" class=\"data row2 col2\" >$13.83</td>\n",
       "            </tr>\n",
       "            <tr>\n",
       "                        <th id=\"T_15e4f8a8_7a7c_11ea_85ed_9cb6d099d10elevel0_row3\" class=\"row_heading level0 row3\" >Iral74</th>\n",
       "                        <td id=\"T_15e4f8a8_7a7c_11ea_85ed_9cb6d099d10erow3_col0\" class=\"data row3 col0\" >4</td>\n",
       "                        <td id=\"T_15e4f8a8_7a7c_11ea_85ed_9cb6d099d10erow3_col1\" class=\"data row3 col1\" >$3.40</td>\n",
       "                        <td id=\"T_15e4f8a8_7a7c_11ea_85ed_9cb6d099d10erow3_col2\" class=\"data row3 col2\" >$13.62</td>\n",
       "            </tr>\n",
       "            <tr>\n",
       "                        <th id=\"T_15e4f8a8_7a7c_11ea_85ed_9cb6d099d10elevel0_row4\" class=\"row_heading level0 row4\" >Iskadarya95</th>\n",
       "                        <td id=\"T_15e4f8a8_7a7c_11ea_85ed_9cb6d099d10erow4_col0\" class=\"data row4 col0\" >3</td>\n",
       "                        <td id=\"T_15e4f8a8_7a7c_11ea_85ed_9cb6d099d10erow4_col1\" class=\"data row4 col1\" >$4.37</td>\n",
       "                        <td id=\"T_15e4f8a8_7a7c_11ea_85ed_9cb6d099d10erow4_col2\" class=\"data row4 col2\" >$13.10</td>\n",
       "            </tr>\n",
       "    </tbody></table>"
      ],
      "text/plain": [
       "<pandas.io.formats.style.Styler at 0x1f462e40d88>"
      ]
     },
     "execution_count": 8,
     "metadata": {},
     "output_type": "execute_result"
    }
   ],
   "source": [
    "#groupinng the column SN\n",
    "group_sn= purchase_data.groupby('SN')\n",
    "\n",
    "#calculate Purchase Count, Average Purchase Price and Total Purchase Value\n",
    "purchase_count_bin = group_sn['Age'].count()\n",
    "average_purchase_bin = group_sn['Price'].mean()\n",
    "total_purchase_bin = group_sn['Price'].sum()\n",
    "\n",
    "\n",
    "#creating dataframe that hold values\n",
    "Top_spenders = pd.DataFrame({\"Purchase Count\" : purchase_count_bin,\n",
    "                                    \"Average Purchase Price\" : average_purchase_bin,\n",
    "                                     \"Total Purchase Value\" : total_purchase_bin,\n",
    "                                  \n",
    "                                  })\n",
    "\n",
    "\n",
    "#Sorting the total purchase value column in descending order\n",
    "Top_spenders = Top_spenders.sort_values(\"Total Purchase Value\", ascending = False)\n",
    "\n",
    "\n",
    "#displaying dataframe and used data cleaner formatting\n",
    "\n",
    "Top_spenders.head().style.format({\"Average Purchase Price\" : \"${:0,.2f}\",\n",
    "                            \"Total Purchase Value\" : \"${:0,.2f}\"\n",
    "                           \n",
    "    \n",
    "                        })\n"
   ]
  },
  {
   "cell_type": "markdown",
   "metadata": {},
   "source": [
    "## Most Popular Items"
   ]
  },
  {
   "cell_type": "markdown",
   "metadata": {},
   "source": [
    "* Retrieve the Item ID, Item Name, and Item Price columns\n",
    "\n",
    "\n",
    "* Group by Item ID and Item Name. Perform calculations to obtain purchase count, item price, and total purchase value\n",
    "\n",
    "\n",
    "* Create a summary data frame to hold the results\n",
    "\n",
    "\n",
    "* Sort the purchase count column in descending order\n",
    "\n",
    "\n",
    "* Optional: give the displayed data cleaner formatting\n",
    "\n",
    "\n",
    "* Display a preview of the summary data frame\n",
    "\n"
   ]
  },
  {
   "cell_type": "code",
   "execution_count": 9,
   "metadata": {},
   "outputs": [
    {
     "data": {
      "text/html": [
       "<style  type=\"text/css\" >\n",
       "</style><table id=\"T_15eb0e12_7a7c_11ea_a8f5_9cb6d099d10e\" ><thead>    <tr>        <th class=\"blank\" ></th>        <th class=\"blank level0\" ></th>        <th class=\"col_heading level0 col0\" >Purchase Count</th>        <th class=\"col_heading level0 col1\" >Item Price</th>        <th class=\"col_heading level0 col2\" >Total Purchase Value</th>    </tr>    <tr>        <th class=\"index_name level0\" >Item ID</th>        <th class=\"index_name level1\" >Item Name</th>        <th class=\"blank\" ></th>        <th class=\"blank\" ></th>        <th class=\"blank\" ></th>    </tr></thead><tbody>\n",
       "                <tr>\n",
       "                        <th id=\"T_15eb0e12_7a7c_11ea_a8f5_9cb6d099d10elevel0_row0\" class=\"row_heading level0 row0\" >92</th>\n",
       "                        <th id=\"T_15eb0e12_7a7c_11ea_a8f5_9cb6d099d10elevel1_row0\" class=\"row_heading level1 row0\" >Final Critic</th>\n",
       "                        <td id=\"T_15eb0e12_7a7c_11ea_a8f5_9cb6d099d10erow0_col0\" class=\"data row0 col0\" >13</td>\n",
       "                        <td id=\"T_15eb0e12_7a7c_11ea_a8f5_9cb6d099d10erow0_col1\" class=\"data row0 col1\" >$4.61</td>\n",
       "                        <td id=\"T_15eb0e12_7a7c_11ea_a8f5_9cb6d099d10erow0_col2\" class=\"data row0 col2\" >$59.99</td>\n",
       "            </tr>\n",
       "            <tr>\n",
       "                        <th id=\"T_15eb0e12_7a7c_11ea_a8f5_9cb6d099d10elevel0_row1\" class=\"row_heading level0 row1\" >178</th>\n",
       "                        <th id=\"T_15eb0e12_7a7c_11ea_a8f5_9cb6d099d10elevel1_row1\" class=\"row_heading level1 row1\" >Oathbreaker, Last Hope of the Breaking Storm</th>\n",
       "                        <td id=\"T_15eb0e12_7a7c_11ea_a8f5_9cb6d099d10erow1_col0\" class=\"data row1 col0\" >12</td>\n",
       "                        <td id=\"T_15eb0e12_7a7c_11ea_a8f5_9cb6d099d10erow1_col1\" class=\"data row1 col1\" >$4.23</td>\n",
       "                        <td id=\"T_15eb0e12_7a7c_11ea_a8f5_9cb6d099d10erow1_col2\" class=\"data row1 col2\" >$50.76</td>\n",
       "            </tr>\n",
       "            <tr>\n",
       "                        <th id=\"T_15eb0e12_7a7c_11ea_a8f5_9cb6d099d10elevel0_row2\" class=\"row_heading level0 row2\" >145</th>\n",
       "                        <th id=\"T_15eb0e12_7a7c_11ea_a8f5_9cb6d099d10elevel1_row2\" class=\"row_heading level1 row2\" >Fiery Glass Crusader</th>\n",
       "                        <td id=\"T_15eb0e12_7a7c_11ea_a8f5_9cb6d099d10erow2_col0\" class=\"data row2 col0\" >9</td>\n",
       "                        <td id=\"T_15eb0e12_7a7c_11ea_a8f5_9cb6d099d10erow2_col1\" class=\"data row2 col1\" >$4.58</td>\n",
       "                        <td id=\"T_15eb0e12_7a7c_11ea_a8f5_9cb6d099d10erow2_col2\" class=\"data row2 col2\" >$41.22</td>\n",
       "            </tr>\n",
       "            <tr>\n",
       "                        <th id=\"T_15eb0e12_7a7c_11ea_a8f5_9cb6d099d10elevel0_row3\" class=\"row_heading level0 row3\" >132</th>\n",
       "                        <th id=\"T_15eb0e12_7a7c_11ea_a8f5_9cb6d099d10elevel1_row3\" class=\"row_heading level1 row3\" >Persuasion</th>\n",
       "                        <td id=\"T_15eb0e12_7a7c_11ea_a8f5_9cb6d099d10erow3_col0\" class=\"data row3 col0\" >9</td>\n",
       "                        <td id=\"T_15eb0e12_7a7c_11ea_a8f5_9cb6d099d10erow3_col1\" class=\"data row3 col1\" >$3.22</td>\n",
       "                        <td id=\"T_15eb0e12_7a7c_11ea_a8f5_9cb6d099d10erow3_col2\" class=\"data row3 col2\" >$28.99</td>\n",
       "            </tr>\n",
       "            <tr>\n",
       "                        <th id=\"T_15eb0e12_7a7c_11ea_a8f5_9cb6d099d10elevel0_row4\" class=\"row_heading level0 row4\" >108</th>\n",
       "                        <th id=\"T_15eb0e12_7a7c_11ea_a8f5_9cb6d099d10elevel1_row4\" class=\"row_heading level1 row4\" >Extraction, Quickblade Of Trembling Hands</th>\n",
       "                        <td id=\"T_15eb0e12_7a7c_11ea_a8f5_9cb6d099d10erow4_col0\" class=\"data row4 col0\" >9</td>\n",
       "                        <td id=\"T_15eb0e12_7a7c_11ea_a8f5_9cb6d099d10erow4_col1\" class=\"data row4 col1\" >$3.53</td>\n",
       "                        <td id=\"T_15eb0e12_7a7c_11ea_a8f5_9cb6d099d10erow4_col2\" class=\"data row4 col2\" >$31.77</td>\n",
       "            </tr>\n",
       "    </tbody></table>"
      ],
      "text/plain": [
       "<pandas.io.formats.style.Styler at 0x1f462e1e5c8>"
      ]
     },
     "execution_count": 9,
     "metadata": {},
     "output_type": "execute_result"
    }
   ],
   "source": [
    "#using groupby grouping the item ID\n",
    "group_item_id= purchase_data.groupby(['Item ID', 'Item Name'])\n",
    "\n",
    "#using loc retrieving iten Id, name and price column\n",
    "popular_item_df = purchase_data.loc[:,[\"Item ID\",\"Item Name\",\"Price\"]]\n",
    "popular_item_df\n",
    "\n",
    "#calculate purchase count , item price and total price value\n",
    "purchase_count_bin = group_item_id['Age'].count()\n",
    "total_purchase_bin = group_item_id['Price'].sum()\n",
    "item_price_bin =group_item_id['Price'].mean()\n",
    "total_purchase_bin\n",
    "\n",
    "#creating dataframe that hold values\n",
    "Most_popular_df = pd.DataFrame({\"Purchase Count\" : purchase_count_bin,\n",
    "                                    \"Item Price\" : item_price_bin,\n",
    "                                     \"Total Purchase Value\" : total_purchase_bin,\n",
    "                                  \n",
    "                                  })\n",
    "\n",
    "\n",
    "#Sorting the total purchase value column in descending order\n",
    "Most_popular_df = Most_popular_df.sort_values(\"Purchase Count\", ascending = False)\n",
    "\n",
    "\n",
    "#Displaying a preview of the summary data frame and used data cleaner formatting\n",
    "Most_popular_df.head().style.format({ \"Item Price\" : \"${:0,.2f}\",\n",
    "                                     \"Total Purchase Value\" :\"${:0,.2f}\"\n",
    "                                     \n",
    "    \n",
    "                                  })"
   ]
  },
  {
   "cell_type": "markdown",
   "metadata": {},
   "source": [
    "## Most Profitable Items"
   ]
  },
  {
   "cell_type": "markdown",
   "metadata": {},
   "source": [
    "* Sort the above table by total purchase value in descending order\n",
    "\n",
    "\n",
    "* Optional: give the displayed data cleaner formatting\n",
    "\n",
    "\n",
    "* Display a preview of the data frame\n",
    "\n"
   ]
  },
  {
   "cell_type": "code",
   "execution_count": 11,
   "metadata": {
    "scrolled": true
   },
   "outputs": [
    {
     "data": {
      "text/html": [
       "<style  type=\"text/css\" >\n",
       "</style><table id=\"T_2ee9ecdc_7a7c_11ea_b90d_9cb6d099d10e\" ><thead>    <tr>        <th class=\"blank\" ></th>        <th class=\"blank level0\" ></th>        <th class=\"col_heading level0 col0\" >Purchase Count</th>        <th class=\"col_heading level0 col1\" >Item Price</th>        <th class=\"col_heading level0 col2\" >Total Purchase Value</th>    </tr>    <tr>        <th class=\"index_name level0\" >Item ID</th>        <th class=\"index_name level1\" >Item Name</th>        <th class=\"blank\" ></th>        <th class=\"blank\" ></th>        <th class=\"blank\" ></th>    </tr></thead><tbody>\n",
       "                <tr>\n",
       "                        <th id=\"T_2ee9ecdc_7a7c_11ea_b90d_9cb6d099d10elevel0_row0\" class=\"row_heading level0 row0\" >92</th>\n",
       "                        <th id=\"T_2ee9ecdc_7a7c_11ea_b90d_9cb6d099d10elevel1_row0\" class=\"row_heading level1 row0\" >Final Critic</th>\n",
       "                        <td id=\"T_2ee9ecdc_7a7c_11ea_b90d_9cb6d099d10erow0_col0\" class=\"data row0 col0\" >13</td>\n",
       "                        <td id=\"T_2ee9ecdc_7a7c_11ea_b90d_9cb6d099d10erow0_col1\" class=\"data row0 col1\" >$4.61</td>\n",
       "                        <td id=\"T_2ee9ecdc_7a7c_11ea_b90d_9cb6d099d10erow0_col2\" class=\"data row0 col2\" >$59.99</td>\n",
       "            </tr>\n",
       "            <tr>\n",
       "                        <th id=\"T_2ee9ecdc_7a7c_11ea_b90d_9cb6d099d10elevel0_row1\" class=\"row_heading level0 row1\" >178</th>\n",
       "                        <th id=\"T_2ee9ecdc_7a7c_11ea_b90d_9cb6d099d10elevel1_row1\" class=\"row_heading level1 row1\" >Oathbreaker, Last Hope of the Breaking Storm</th>\n",
       "                        <td id=\"T_2ee9ecdc_7a7c_11ea_b90d_9cb6d099d10erow1_col0\" class=\"data row1 col0\" >12</td>\n",
       "                        <td id=\"T_2ee9ecdc_7a7c_11ea_b90d_9cb6d099d10erow1_col1\" class=\"data row1 col1\" >$4.23</td>\n",
       "                        <td id=\"T_2ee9ecdc_7a7c_11ea_b90d_9cb6d099d10erow1_col2\" class=\"data row1 col2\" >$50.76</td>\n",
       "            </tr>\n",
       "            <tr>\n",
       "                        <th id=\"T_2ee9ecdc_7a7c_11ea_b90d_9cb6d099d10elevel0_row2\" class=\"row_heading level0 row2\" >82</th>\n",
       "                        <th id=\"T_2ee9ecdc_7a7c_11ea_b90d_9cb6d099d10elevel1_row2\" class=\"row_heading level1 row2\" >Nirvana</th>\n",
       "                        <td id=\"T_2ee9ecdc_7a7c_11ea_b90d_9cb6d099d10erow2_col0\" class=\"data row2 col0\" >9</td>\n",
       "                        <td id=\"T_2ee9ecdc_7a7c_11ea_b90d_9cb6d099d10erow2_col1\" class=\"data row2 col1\" >$4.90</td>\n",
       "                        <td id=\"T_2ee9ecdc_7a7c_11ea_b90d_9cb6d099d10erow2_col2\" class=\"data row2 col2\" >$44.10</td>\n",
       "            </tr>\n",
       "            <tr>\n",
       "                        <th id=\"T_2ee9ecdc_7a7c_11ea_b90d_9cb6d099d10elevel0_row3\" class=\"row_heading level0 row3\" >145</th>\n",
       "                        <th id=\"T_2ee9ecdc_7a7c_11ea_b90d_9cb6d099d10elevel1_row3\" class=\"row_heading level1 row3\" >Fiery Glass Crusader</th>\n",
       "                        <td id=\"T_2ee9ecdc_7a7c_11ea_b90d_9cb6d099d10erow3_col0\" class=\"data row3 col0\" >9</td>\n",
       "                        <td id=\"T_2ee9ecdc_7a7c_11ea_b90d_9cb6d099d10erow3_col1\" class=\"data row3 col1\" >$4.58</td>\n",
       "                        <td id=\"T_2ee9ecdc_7a7c_11ea_b90d_9cb6d099d10erow3_col2\" class=\"data row3 col2\" >$41.22</td>\n",
       "            </tr>\n",
       "            <tr>\n",
       "                        <th id=\"T_2ee9ecdc_7a7c_11ea_b90d_9cb6d099d10elevel0_row4\" class=\"row_heading level0 row4\" >103</th>\n",
       "                        <th id=\"T_2ee9ecdc_7a7c_11ea_b90d_9cb6d099d10elevel1_row4\" class=\"row_heading level1 row4\" >Singed Scalpel</th>\n",
       "                        <td id=\"T_2ee9ecdc_7a7c_11ea_b90d_9cb6d099d10erow4_col0\" class=\"data row4 col0\" >8</td>\n",
       "                        <td id=\"T_2ee9ecdc_7a7c_11ea_b90d_9cb6d099d10erow4_col1\" class=\"data row4 col1\" >$4.35</td>\n",
       "                        <td id=\"T_2ee9ecdc_7a7c_11ea_b90d_9cb6d099d10erow4_col2\" class=\"data row4 col2\" >$34.80</td>\n",
       "            </tr>\n",
       "    </tbody></table>"
      ],
      "text/plain": [
       "<pandas.io.formats.style.Styler at 0x1f462001b88>"
      ]
     },
     "execution_count": 11,
     "metadata": {},
     "output_type": "execute_result"
    }
   ],
   "source": [
    "#Sort the above table by most popular value in descending order\n",
    "Most_popular_df = Most_popular_df.sort_values(\"Total Purchase Value\", ascending = False)\n",
    "\n",
    "\n",
    "#Displaying a preview of the data frame and used data cleaner formatting\n",
    "Most_popular_df.head().style.format({ \"Item Price\" : \"${:0,.2f}\",\n",
    "                                     \"Total Purchase Value\" :\"${:0,.2f}\"\n",
    "                                      })"
   ]
  },
  {
   "cell_type": "code",
   "execution_count": null,
   "metadata": {},
   "outputs": [],
   "source": []
  }
 ],
 "metadata": {
  "anaconda-cloud": {},
  "kernel_info": {
   "name": "python3"
  },
  "kernelspec": {
   "display_name": "Python 3",
   "language": "python",
   "name": "python3"
  },
  "language_info": {
   "codemirror_mode": {
    "name": "ipython",
    "version": 3
   },
   "file_extension": ".py",
   "mimetype": "text/x-python",
   "name": "python",
   "nbconvert_exporter": "python",
   "pygments_lexer": "ipython3",
   "version": "3.7.6"
  },
  "latex_envs": {
   "LaTeX_envs_menu_present": true,
   "autoclose": false,
   "autocomplete": true,
   "bibliofile": "biblio.bib",
   "cite_by": "apalike",
   "current_citInitial": 1,
   "eqLabelWithNumbers": true,
   "eqNumInitial": 1,
   "hotkeys": {
    "equation": "Ctrl-E",
    "itemize": "Ctrl-I"
   },
   "labels_anchors": false,
   "latex_user_defs": false,
   "report_style_numbering": false,
   "user_envs_cfg": false
  },
  "nteract": {
   "version": "0.2.0"
  }
 },
 "nbformat": 4,
 "nbformat_minor": 2
}
